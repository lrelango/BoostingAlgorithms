{
 "cells": [
  {
   "cell_type": "code",
   "execution_count": 2,
   "id": "abe3cd82-2f62-43f1-82c6-1dfe8054fd65",
   "metadata": {},
   "outputs": [],
   "source": [
    "import pickle\n",
    "filename=\"finalize_model_LGBoost_Regression.sav\""
   ]
  },
  {
   "cell_type": "code",
   "execution_count": 3,
   "id": "05ae8ac2-7f30-4ffb-9762-34acb7f541a7",
   "metadata": {},
   "outputs": [
    {
     "data": {
      "text/plain": [
       "array([43937.86312766])"
      ]
     },
     "execution_count": 3,
     "metadata": {},
     "output_type": "execute_result"
    }
   ],
   "source": [
    "loaded_model=pickle.load(open(filename,'rb'))\n",
    "result = loaded_model.predict([[38,33.000,3,1,1]])\n",
    "result"
   ]
  },
  {
   "cell_type": "code",
   "execution_count": null,
   "id": "869af22e-e95f-498c-8429-1b7d87f96ad2",
   "metadata": {},
   "outputs": [],
   "source": []
  }
 ],
 "metadata": {
  "kernelspec": {
   "display_name": "Python 3 (ipykernel)",
   "language": "python",
   "name": "python3"
  },
  "language_info": {
   "codemirror_mode": {
    "name": "ipython",
    "version": 3
   },
   "file_extension": ".py",
   "mimetype": "text/x-python",
   "name": "python",
   "nbconvert_exporter": "python",
   "pygments_lexer": "ipython3",
   "version": "3.12.7"
  }
 },
 "nbformat": 4,
 "nbformat_minor": 5
}
